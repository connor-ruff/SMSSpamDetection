{
 "cells": [
  {
   "cell_type": "code",
   "execution_count": 10,
   "metadata": {},
   "outputs": [
    {
     "name": "stdout",
     "output_type": "stream",
     "text": [
      "Success Rate: 98.42067480258436%\n"
     ]
    }
   ],
   "source": [
    "import numpy as np\n",
    "import pandas as pd\n",
    "import math\n",
    "import matplotlib.pyplot as plt\n",
    "import nltk \n",
    "from nltk.tokenize import word_tokenize\n",
    "from nltk.corpus import stopwords\n",
    "from sklearn.feature_extraction.text import CountVectorizer\n",
    "from sklearn.naive_bayes import MultinomialNB\n",
    "\n",
    "\n",
    "def main():\n",
    "    # Read In Data and Format It Better\n",
    "    df = pd.read_csv('spam.csv', sep=',', encoding='ISO-8859-1')\n",
    "    df = df.drop(columns=[ \"Unnamed: 2\", \"Unnamed: 3\", \"Unnamed: 4\"], axis=1)\n",
    "\n",
    "    # Add 2 New Columns: For binary spam/ham indicator and length of message\n",
    "    df['Result']= df['Classification'].map( {'spam' : int(1), 'ham' : int(0)})\n",
    "    df['Message_Size'] = df['Text'].apply(len)\n",
    "\n",
    "   \n",
    "    # Split Set Into Test Set and Training Set\n",
    "    total = df['Result'].count()\n",
    "    half = math.floor(total / 2)\n",
    "    dfTrain = df.iloc[:half]\n",
    "    dfTest = df.iloc[half:]\n",
    "    \n",
    "    classifier = MultinomialNB()\n",
    "    \n",
    "    targs = dfTrain['Result'].values\n",
    "    # Vectorize Message\n",
    "    vectorizer = CountVectorizer()\n",
    "    counts = vectorizer.fit_transform(dfTrain['Text'].values)\n",
    "    \n",
    "    # Train data\n",
    "    classifier.fit(counts, targs)\n",
    "    \n",
    "    # Test With Test Set\n",
    "    predictions = classifier.predict(vectorizer.transform(dfTest['Text']))\n",
    "    \n",
    "    countRight = 0\n",
    "    i = 0\n",
    "    for entry in dfTest['Result']:\n",
    "        if (entry == predictions[i]):\n",
    "            countRight+=1\n",
    "        i+=1\n",
    "        \n",
    "    size = dfTest['Result'].size\n",
    "    print(f'Success Rate: {countRight / size * 100}%')\n",
    "    \n",
    "if __name__ =='__main__':\n",
    "    main()"
   ]
  },
  {
   "cell_type": "code",
   "execution_count": null,
   "metadata": {},
   "outputs": [],
   "source": []
  }
 ],
 "metadata": {
  "kernelspec": {
   "display_name": "Python 3",
   "language": "python",
   "name": "python3"
  },
  "language_info": {
   "codemirror_mode": {
    "name": "ipython",
    "version": 3
   },
   "file_extension": ".py",
   "mimetype": "text/x-python",
   "name": "python",
   "nbconvert_exporter": "python",
   "pygments_lexer": "ipython3",
   "version": "3.8.3"
  }
 },
 "nbformat": 4,
 "nbformat_minor": 4
}
